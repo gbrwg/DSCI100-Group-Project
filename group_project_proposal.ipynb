{
 "cells": [
  {
   "cell_type": "markdown",
   "metadata": {},
   "source": [
    "# The relationship between PM2.5 concentration and seasons in Beijing"
   ]
  },
  {
   "cell_type": "markdown",
   "metadata": {},
   "source": [
    "### Introduction\n",
    "Due to the rapid industrial development, air pollution has become a big concern. Major metropolitan cities, such as Beijing suffer from this difficulty. Particulate Matter 2.5 (PM2.5) are tiny particles or droplets in the air that are carcinogenic and causes respiratory disease (Zhao et al.). In order to explore the pattern of Beijing PM2.5 concentration, this study will focus on the question: is PM2.5 concentration in Beijing seasonal? The *Beijing PM2.5 Data Data Set* will be used to answer this question. The dataset includes the daily data of PM2.5 concentration, temperature, dew points, pressure, wind conditions, and weather conditions in Beijing from 2010 to 2014. The variable characteristics are either integers or real numbers.\n"
   ]
  },
  {
   "cell_type": "markdown",
   "metadata": {},
   "source": [
    "### Preliminary Data Analysis\n"
   ]
  },
  {
   "cell_type": "code",
   "execution_count": 3,
   "metadata": {},
   "outputs": [
    {
     "name": "stderr",
     "output_type": "stream",
     "text": [
      "── \u001b[1mAttaching packages\u001b[22m ─────────────────────────────────────── tidyverse 1.3.0 ──\n",
      "\n",
      "\u001b[32m✔\u001b[39m \u001b[34mggplot2\u001b[39m 3.3.2     \u001b[32m✔\u001b[39m \u001b[34mpurrr  \u001b[39m 0.3.4\n",
      "\u001b[32m✔\u001b[39m \u001b[34mtibble \u001b[39m 3.0.3     \u001b[32m✔\u001b[39m \u001b[34mdplyr  \u001b[39m 1.0.2\n",
      "\u001b[32m✔\u001b[39m \u001b[34mtidyr  \u001b[39m 1.1.2     \u001b[32m✔\u001b[39m \u001b[34mstringr\u001b[39m 1.4.0\n",
      "\u001b[32m✔\u001b[39m \u001b[34mreadr  \u001b[39m 1.3.1     \u001b[32m✔\u001b[39m \u001b[34mforcats\u001b[39m 0.5.0\n",
      "\n",
      "Warning message:\n",
      "“package ‘ggplot2’ was built under R version 4.0.1”\n",
      "Warning message:\n",
      "“package ‘tibble’ was built under R version 4.0.2”\n",
      "Warning message:\n",
      "“package ‘tidyr’ was built under R version 4.0.2”\n",
      "Warning message:\n",
      "“package ‘dplyr’ was built under R version 4.0.2”\n",
      "── \u001b[1mConflicts\u001b[22m ────────────────────────────────────────── tidyverse_conflicts() ──\n",
      "\u001b[31m✖\u001b[39m \u001b[34mdplyr\u001b[39m::\u001b[32mfilter()\u001b[39m masks \u001b[34mstats\u001b[39m::filter()\n",
      "\u001b[31m✖\u001b[39m \u001b[34mdplyr\u001b[39m::\u001b[32mlag()\u001b[39m    masks \u001b[34mstats\u001b[39m::lag()\n",
      "\n",
      "Warning message:\n",
      "“package ‘tidymodels’ was built under R version 4.0.2”\n",
      "── \u001b[1mAttaching packages\u001b[22m ────────────────────────────────────── tidymodels 0.1.1 ──\n",
      "\n",
      "\u001b[32m✔\u001b[39m \u001b[34mbroom    \u001b[39m 0.7.0      \u001b[32m✔\u001b[39m \u001b[34mrecipes  \u001b[39m 0.1.13\n",
      "\u001b[32m✔\u001b[39m \u001b[34mdials    \u001b[39m 0.0.9      \u001b[32m✔\u001b[39m \u001b[34mrsample  \u001b[39m 0.0.7 \n",
      "\u001b[32m✔\u001b[39m \u001b[34minfer    \u001b[39m 0.5.4      \u001b[32m✔\u001b[39m \u001b[34mtune     \u001b[39m 0.1.1 \n",
      "\u001b[32m✔\u001b[39m \u001b[34mmodeldata\u001b[39m 0.0.2      \u001b[32m✔\u001b[39m \u001b[34mworkflows\u001b[39m 0.2.0 \n",
      "\u001b[32m✔\u001b[39m \u001b[34mparsnip  \u001b[39m 0.1.3      \u001b[32m✔\u001b[39m \u001b[34myardstick\u001b[39m 0.0.7 \n",
      "\n",
      "Warning message:\n",
      "“package ‘broom’ was built under R version 4.0.2”\n",
      "Warning message:\n",
      "“package ‘dials’ was built under R version 4.0.2”\n",
      "Warning message:\n",
      "“package ‘infer’ was built under R version 4.0.3”\n",
      "Warning message:\n",
      "“package ‘modeldata’ was built under R version 4.0.1”\n",
      "Warning message:\n",
      "“package ‘parsnip’ was built under R version 4.0.2”\n",
      "Warning message:\n",
      "“package ‘recipes’ was built under R version 4.0.1”\n",
      "Warning message:\n",
      "“package ‘tune’ was built under R version 4.0.2”\n",
      "Warning message:\n",
      "“package ‘workflows’ was built under R version 4.0.2”\n",
      "Warning message:\n",
      "“package ‘yardstick’ was built under R version 4.0.2”\n",
      "── \u001b[1mConflicts\u001b[22m ───────────────────────────────────────── tidymodels_conflicts() ──\n",
      "\u001b[31m✖\u001b[39m \u001b[34mscales\u001b[39m::\u001b[32mdiscard()\u001b[39m masks \u001b[34mpurrr\u001b[39m::discard()\n",
      "\u001b[31m✖\u001b[39m \u001b[34mdplyr\u001b[39m::\u001b[32mfilter()\u001b[39m   masks \u001b[34mstats\u001b[39m::filter()\n",
      "\u001b[31m✖\u001b[39m \u001b[34mrecipes\u001b[39m::\u001b[32mfixed()\u001b[39m  masks \u001b[34mstringr\u001b[39m::fixed()\n",
      "\u001b[31m✖\u001b[39m \u001b[34mdplyr\u001b[39m::\u001b[32mlag()\u001b[39m      masks \u001b[34mstats\u001b[39m::lag()\n",
      "\u001b[31m✖\u001b[39m \u001b[34myardstick\u001b[39m::\u001b[32mspec()\u001b[39m masks \u001b[34mreadr\u001b[39m::spec()\n",
      "\u001b[31m✖\u001b[39m \u001b[34mrecipes\u001b[39m::\u001b[32mstep()\u001b[39m   masks \u001b[34mstats\u001b[39m::step()\n",
      "\n",
      "\n",
      "Attaching package: ‘RCurl’\n",
      "\n",
      "\n",
      "The following object is masked from ‘package:tidyr’:\n",
      "\n",
      "    complete\n",
      "\n",
      "\n"
     ]
    }
   ],
   "source": [
    "library(tidyverse)\n",
    "library(repr)\n",
    "library(tidymodels)\n",
    "library(RCurl)"
   ]
  },
  {
   "cell_type": "code",
   "execution_count": 4,
   "metadata": {},
   "outputs": [
    {
     "name": "stderr",
     "output_type": "stream",
     "text": [
      "Parsed with column specification:\n",
      "cols(\n",
      "  No = \u001b[32mcol_double()\u001b[39m,\n",
      "  year = \u001b[32mcol_double()\u001b[39m,\n",
      "  month = \u001b[32mcol_double()\u001b[39m,\n",
      "  day = \u001b[32mcol_double()\u001b[39m,\n",
      "  hour = \u001b[32mcol_double()\u001b[39m,\n",
      "  pm2.5 = \u001b[32mcol_double()\u001b[39m,\n",
      "  DEWP = \u001b[32mcol_double()\u001b[39m,\n",
      "  TEMP = \u001b[32mcol_double()\u001b[39m,\n",
      "  PRES = \u001b[32mcol_double()\u001b[39m,\n",
      "  cbwd = \u001b[31mcol_character()\u001b[39m,\n",
      "  Iws = \u001b[32mcol_double()\u001b[39m,\n",
      "  Is = \u001b[32mcol_double()\u001b[39m,\n",
      "  Ir = \u001b[32mcol_double()\u001b[39m\n",
      ")\n",
      "\n"
     ]
    },
    {
     "data": {
      "text/html": [
       "<table>\n",
       "<caption>A spec_tbl_df: 8760 × 13</caption>\n",
       "<thead>\n",
       "\t<tr><th scope=col>No</th><th scope=col>year</th><th scope=col>month</th><th scope=col>day</th><th scope=col>hour</th><th scope=col>pm2.5</th><th scope=col>DEWP</th><th scope=col>TEMP</th><th scope=col>PRES</th><th scope=col>cbwd</th><th scope=col>Iws</th><th scope=col>Is</th><th scope=col>Ir</th></tr>\n",
       "\t<tr><th scope=col>&lt;dbl&gt;</th><th scope=col>&lt;dbl&gt;</th><th scope=col>&lt;dbl&gt;</th><th scope=col>&lt;dbl&gt;</th><th scope=col>&lt;dbl&gt;</th><th scope=col>&lt;dbl&gt;</th><th scope=col>&lt;dbl&gt;</th><th scope=col>&lt;dbl&gt;</th><th scope=col>&lt;dbl&gt;</th><th scope=col>&lt;chr&gt;</th><th scope=col>&lt;dbl&gt;</th><th scope=col>&lt;dbl&gt;</th><th scope=col>&lt;dbl&gt;</th></tr>\n",
       "</thead>\n",
       "<tbody>\n",
       "\t<tr><td> 1</td><td>2010</td><td>1</td><td>1</td><td> 0</td><td> NA</td><td>-21</td><td>-11</td><td>1021</td><td>NW</td><td> 1.79</td><td>0</td><td>0</td></tr>\n",
       "\t<tr><td> 2</td><td>2010</td><td>1</td><td>1</td><td> 1</td><td> NA</td><td>-21</td><td>-12</td><td>1020</td><td>NW</td><td> 4.92</td><td>0</td><td>0</td></tr>\n",
       "\t<tr><td> 3</td><td>2010</td><td>1</td><td>1</td><td> 2</td><td> NA</td><td>-21</td><td>-11</td><td>1019</td><td>NW</td><td> 6.71</td><td>0</td><td>0</td></tr>\n",
       "\t<tr><td> 4</td><td>2010</td><td>1</td><td>1</td><td> 3</td><td> NA</td><td>-21</td><td>-14</td><td>1019</td><td>NW</td><td> 9.84</td><td>0</td><td>0</td></tr>\n",
       "\t<tr><td> 5</td><td>2010</td><td>1</td><td>1</td><td> 4</td><td> NA</td><td>-20</td><td>-12</td><td>1018</td><td>NW</td><td>12.97</td><td>0</td><td>0</td></tr>\n",
       "\t<tr><td> 6</td><td>2010</td><td>1</td><td>1</td><td> 5</td><td> NA</td><td>-19</td><td>-10</td><td>1017</td><td>NW</td><td>16.10</td><td>0</td><td>0</td></tr>\n",
       "\t<tr><td> 7</td><td>2010</td><td>1</td><td>1</td><td> 6</td><td> NA</td><td>-19</td><td> -9</td><td>1017</td><td>NW</td><td>19.23</td><td>0</td><td>0</td></tr>\n",
       "\t<tr><td> 8</td><td>2010</td><td>1</td><td>1</td><td> 7</td><td> NA</td><td>-19</td><td> -9</td><td>1017</td><td>NW</td><td>21.02</td><td>0</td><td>0</td></tr>\n",
       "\t<tr><td> 9</td><td>2010</td><td>1</td><td>1</td><td> 8</td><td> NA</td><td>-19</td><td> -9</td><td>1017</td><td>NW</td><td>24.15</td><td>0</td><td>0</td></tr>\n",
       "\t<tr><td>10</td><td>2010</td><td>1</td><td>1</td><td> 9</td><td> NA</td><td>-20</td><td> -8</td><td>1017</td><td>NW</td><td>27.28</td><td>0</td><td>0</td></tr>\n",
       "\t<tr><td>11</td><td>2010</td><td>1</td><td>1</td><td>10</td><td> NA</td><td>-19</td><td> -7</td><td>1017</td><td>NW</td><td>31.30</td><td>0</td><td>0</td></tr>\n",
       "\t<tr><td>12</td><td>2010</td><td>1</td><td>1</td><td>11</td><td> NA</td><td>-18</td><td> -5</td><td>1017</td><td>NW</td><td>34.43</td><td>0</td><td>0</td></tr>\n",
       "\t<tr><td>13</td><td>2010</td><td>1</td><td>1</td><td>12</td><td> NA</td><td>-19</td><td> -5</td><td>1015</td><td>NW</td><td>37.56</td><td>0</td><td>0</td></tr>\n",
       "\t<tr><td>14</td><td>2010</td><td>1</td><td>1</td><td>13</td><td> NA</td><td>-18</td><td> -3</td><td>1015</td><td>NW</td><td>40.69</td><td>0</td><td>0</td></tr>\n",
       "\t<tr><td>15</td><td>2010</td><td>1</td><td>1</td><td>14</td><td> NA</td><td>-18</td><td> -2</td><td>1014</td><td>NW</td><td>43.82</td><td>0</td><td>0</td></tr>\n",
       "\t<tr><td>16</td><td>2010</td><td>1</td><td>1</td><td>15</td><td> NA</td><td>-18</td><td> -1</td><td>1014</td><td>cv</td><td> 0.89</td><td>0</td><td>0</td></tr>\n",
       "\t<tr><td>17</td><td>2010</td><td>1</td><td>1</td><td>16</td><td> NA</td><td>-19</td><td> -2</td><td>1015</td><td>NW</td><td> 1.79</td><td>0</td><td>0</td></tr>\n",
       "\t<tr><td>18</td><td>2010</td><td>1</td><td>1</td><td>17</td><td> NA</td><td>-18</td><td> -3</td><td>1015</td><td>NW</td><td> 2.68</td><td>0</td><td>0</td></tr>\n",
       "\t<tr><td>19</td><td>2010</td><td>1</td><td>1</td><td>18</td><td> NA</td><td>-18</td><td> -5</td><td>1016</td><td>NE</td><td> 1.79</td><td>0</td><td>0</td></tr>\n",
       "\t<tr><td>20</td><td>2010</td><td>1</td><td>1</td><td>19</td><td> NA</td><td>-17</td><td> -4</td><td>1017</td><td>NW</td><td> 1.79</td><td>0</td><td>0</td></tr>\n",
       "\t<tr><td>21</td><td>2010</td><td>1</td><td>1</td><td>20</td><td> NA</td><td>-17</td><td> -5</td><td>1017</td><td>cv</td><td> 0.89</td><td>0</td><td>0</td></tr>\n",
       "\t<tr><td>22</td><td>2010</td><td>1</td><td>1</td><td>21</td><td> NA</td><td>-17</td><td> -5</td><td>1018</td><td>NW</td><td> 1.79</td><td>0</td><td>0</td></tr>\n",
       "\t<tr><td>23</td><td>2010</td><td>1</td><td>1</td><td>22</td><td> NA</td><td>-17</td><td> -5</td><td>1018</td><td>NW</td><td> 2.68</td><td>0</td><td>0</td></tr>\n",
       "\t<tr><td>24</td><td>2010</td><td>1</td><td>1</td><td>23</td><td> NA</td><td>-17</td><td> -5</td><td>1020</td><td>cv</td><td> 0.89</td><td>0</td><td>0</td></tr>\n",
       "\t<tr><td>25</td><td>2010</td><td>1</td><td>2</td><td> 0</td><td>129</td><td>-16</td><td> -4</td><td>1020</td><td>SE</td><td> 1.79</td><td>0</td><td>0</td></tr>\n",
       "\t<tr><td>26</td><td>2010</td><td>1</td><td>2</td><td> 1</td><td>148</td><td>-15</td><td> -4</td><td>1020</td><td>SE</td><td> 2.68</td><td>0</td><td>0</td></tr>\n",
       "\t<tr><td>27</td><td>2010</td><td>1</td><td>2</td><td> 2</td><td>159</td><td>-11</td><td> -5</td><td>1021</td><td>SE</td><td> 3.57</td><td>0</td><td>0</td></tr>\n",
       "\t<tr><td>28</td><td>2010</td><td>1</td><td>2</td><td> 3</td><td>181</td><td> -7</td><td> -5</td><td>1022</td><td>SE</td><td> 5.36</td><td>1</td><td>0</td></tr>\n",
       "\t<tr><td>29</td><td>2010</td><td>1</td><td>2</td><td> 4</td><td>138</td><td> -7</td><td> -5</td><td>1022</td><td>SE</td><td> 6.25</td><td>2</td><td>0</td></tr>\n",
       "\t<tr><td>30</td><td>2010</td><td>1</td><td>2</td><td> 5</td><td>109</td><td> -7</td><td> -6</td><td>1022</td><td>SE</td><td> 7.14</td><td>3</td><td>0</td></tr>\n",
       "\t<tr><td>⋮</td><td>⋮</td><td>⋮</td><td>⋮</td><td>⋮</td><td>⋮</td><td>⋮</td><td>⋮</td><td>⋮</td><td>⋮</td><td>⋮</td><td>⋮</td><td>⋮</td></tr>\n",
       "\t<tr><td>8731</td><td>2010</td><td>12</td><td>30</td><td>18</td><td>17</td><td>-23</td><td> -6</td><td>1026</td><td>NW</td><td>302.65</td><td>0</td><td>0</td></tr>\n",
       "\t<tr><td>8732</td><td>2010</td><td>12</td><td>30</td><td>19</td><td>19</td><td>-24</td><td> -7</td><td>1026</td><td>NW</td><td>315.61</td><td>0</td><td>0</td></tr>\n",
       "\t<tr><td>8733</td><td>2010</td><td>12</td><td>30</td><td>20</td><td>23</td><td>-24</td><td> -8</td><td>1027</td><td>NW</td><td>326.79</td><td>0</td><td>0</td></tr>\n",
       "\t<tr><td>8734</td><td>2010</td><td>12</td><td>30</td><td>21</td><td>21</td><td>-24</td><td> -8</td><td>1027</td><td>NW</td><td>337.97</td><td>0</td><td>0</td></tr>\n",
       "\t<tr><td>8735</td><td>2010</td><td>12</td><td>30</td><td>22</td><td>16</td><td>-23</td><td> -8</td><td>1028</td><td>NW</td><td>345.12</td><td>0</td><td>0</td></tr>\n",
       "\t<tr><td>8736</td><td>2010</td><td>12</td><td>30</td><td>23</td><td>20</td><td>-23</td><td> -9</td><td>1028</td><td>NW</td><td>354.06</td><td>0</td><td>0</td></tr>\n",
       "\t<tr><td>8737</td><td>2010</td><td>12</td><td>31</td><td> 0</td><td>20</td><td>-24</td><td> -9</td><td>1028</td><td>NW</td><td>359.87</td><td>0</td><td>0</td></tr>\n",
       "\t<tr><td>8738</td><td>2010</td><td>12</td><td>31</td><td> 1</td><td>21</td><td>-23</td><td> -9</td><td>1028</td><td>NW</td><td>367.92</td><td>0</td><td>0</td></tr>\n",
       "\t<tr><td>8739</td><td>2010</td><td>12</td><td>31</td><td> 2</td><td>20</td><td>-23</td><td> -9</td><td>1029</td><td>NW</td><td>376.86</td><td>0</td><td>0</td></tr>\n",
       "\t<tr><td>8740</td><td>2010</td><td>12</td><td>31</td><td> 3</td><td>16</td><td>-24</td><td> -9</td><td>1028</td><td>NW</td><td>384.91</td><td>0</td><td>0</td></tr>\n",
       "\t<tr><td>8741</td><td>2010</td><td>12</td><td>31</td><td> 4</td><td>16</td><td>-24</td><td>-10</td><td>1029</td><td>NW</td><td>392.96</td><td>0</td><td>0</td></tr>\n",
       "\t<tr><td>8742</td><td>2010</td><td>12</td><td>31</td><td> 5</td><td>13</td><td>-23</td><td>-10</td><td>1029</td><td>NW</td><td>400.11</td><td>0</td><td>0</td></tr>\n",
       "\t<tr><td>8743</td><td>2010</td><td>12</td><td>31</td><td> 6</td><td>14</td><td>-24</td><td>-10</td><td>1029</td><td>NW</td><td>409.05</td><td>0</td><td>0</td></tr>\n",
       "\t<tr><td>8744</td><td>2010</td><td>12</td><td>31</td><td> 7</td><td>16</td><td>-23</td><td>-10</td><td>1029</td><td>NW</td><td>416.20</td><td>0</td><td>0</td></tr>\n",
       "\t<tr><td>8745</td><td>2010</td><td>12</td><td>31</td><td> 8</td><td>18</td><td>-23</td><td> -9</td><td>1029</td><td>NW</td><td>424.25</td><td>0</td><td>0</td></tr>\n",
       "\t<tr><td>8746</td><td>2010</td><td>12</td><td>31</td><td> 9</td><td>15</td><td>-23</td><td> -8</td><td>1030</td><td>NW</td><td>434.08</td><td>0</td><td>0</td></tr>\n",
       "\t<tr><td>8747</td><td>2010</td><td>12</td><td>31</td><td>10</td><td>19</td><td>-23</td><td> -7</td><td>1030</td><td>NW</td><td>447.04</td><td>0</td><td>0</td></tr>\n",
       "\t<tr><td>8748</td><td>2010</td><td>12</td><td>31</td><td>11</td><td>14</td><td>-22</td><td> -6</td><td>1029</td><td>NW</td><td>458.22</td><td>0</td><td>0</td></tr>\n",
       "\t<tr><td>8749</td><td>2010</td><td>12</td><td>31</td><td>12</td><td>18</td><td>-22</td><td> -4</td><td>1029</td><td>NW</td><td>468.05</td><td>0</td><td>0</td></tr>\n",
       "\t<tr><td>8750</td><td>2010</td><td>12</td><td>31</td><td>13</td><td>21</td><td>-21</td><td> -4</td><td>1028</td><td>NW</td><td>479.23</td><td>0</td><td>0</td></tr>\n",
       "\t<tr><td>8751</td><td>2010</td><td>12</td><td>31</td><td>14</td><td>21</td><td>-21</td><td> -3</td><td>1028</td><td>NW</td><td>489.06</td><td>0</td><td>0</td></tr>\n",
       "\t<tr><td>8752</td><td>2010</td><td>12</td><td>31</td><td>15</td><td>19</td><td>-20</td><td> -3</td><td>1028</td><td>NW</td><td>498.89</td><td>0</td><td>0</td></tr>\n",
       "\t<tr><td>8753</td><td>2010</td><td>12</td><td>31</td><td>16</td><td>18</td><td>-20</td><td> -4</td><td>1029</td><td>NW</td><td>508.72</td><td>0</td><td>0</td></tr>\n",
       "\t<tr><td>8754</td><td>2010</td><td>12</td><td>31</td><td>17</td><td>20</td><td>-20</td><td> -4</td><td>1029</td><td>NW</td><td>518.55</td><td>0</td><td>0</td></tr>\n",
       "\t<tr><td>8755</td><td>2010</td><td>12</td><td>31</td><td>18</td><td>28</td><td>-20</td><td> -5</td><td>1030</td><td>NW</td><td>526.60</td><td>0</td><td>0</td></tr>\n",
       "\t<tr><td>8756</td><td>2010</td><td>12</td><td>31</td><td>19</td><td>27</td><td>-20</td><td> -5</td><td>1030</td><td>NW</td><td>534.65</td><td>0</td><td>0</td></tr>\n",
       "\t<tr><td>8757</td><td>2010</td><td>12</td><td>31</td><td>20</td><td>17</td><td>-20</td><td> -6</td><td>1031</td><td>NW</td><td>543.59</td><td>0</td><td>0</td></tr>\n",
       "\t<tr><td>8758</td><td>2010</td><td>12</td><td>31</td><td>21</td><td>19</td><td>-21</td><td> -6</td><td>1031</td><td>NW</td><td>552.53</td><td>0</td><td>0</td></tr>\n",
       "\t<tr><td>8759</td><td>2010</td><td>12</td><td>31</td><td>22</td><td>16</td><td>-21</td><td> -7</td><td>1032</td><td>NW</td><td>559.68</td><td>0</td><td>0</td></tr>\n",
       "\t<tr><td>8760</td><td>2010</td><td>12</td><td>31</td><td>23</td><td>22</td><td>-21</td><td> -7</td><td>1033</td><td>NW</td><td>565.49</td><td>0</td><td>0</td></tr>\n",
       "</tbody>\n",
       "</table>\n"
      ],
      "text/latex": [
       "A spec\\_tbl\\_df: 8760 × 13\n",
       "\\begin{tabular}{lllllllllllll}\n",
       " No & year & month & day & hour & pm2.5 & DEWP & TEMP & PRES & cbwd & Iws & Is & Ir\\\\\n",
       " <dbl> & <dbl> & <dbl> & <dbl> & <dbl> & <dbl> & <dbl> & <dbl> & <dbl> & <chr> & <dbl> & <dbl> & <dbl>\\\\\n",
       "\\hline\n",
       "\t  1 & 2010 & 1 & 1 &  0 &  NA & -21 & -11 & 1021 & NW &  1.79 & 0 & 0\\\\\n",
       "\t  2 & 2010 & 1 & 1 &  1 &  NA & -21 & -12 & 1020 & NW &  4.92 & 0 & 0\\\\\n",
       "\t  3 & 2010 & 1 & 1 &  2 &  NA & -21 & -11 & 1019 & NW &  6.71 & 0 & 0\\\\\n",
       "\t  4 & 2010 & 1 & 1 &  3 &  NA & -21 & -14 & 1019 & NW &  9.84 & 0 & 0\\\\\n",
       "\t  5 & 2010 & 1 & 1 &  4 &  NA & -20 & -12 & 1018 & NW & 12.97 & 0 & 0\\\\\n",
       "\t  6 & 2010 & 1 & 1 &  5 &  NA & -19 & -10 & 1017 & NW & 16.10 & 0 & 0\\\\\n",
       "\t  7 & 2010 & 1 & 1 &  6 &  NA & -19 &  -9 & 1017 & NW & 19.23 & 0 & 0\\\\\n",
       "\t  8 & 2010 & 1 & 1 &  7 &  NA & -19 &  -9 & 1017 & NW & 21.02 & 0 & 0\\\\\n",
       "\t  9 & 2010 & 1 & 1 &  8 &  NA & -19 &  -9 & 1017 & NW & 24.15 & 0 & 0\\\\\n",
       "\t 10 & 2010 & 1 & 1 &  9 &  NA & -20 &  -8 & 1017 & NW & 27.28 & 0 & 0\\\\\n",
       "\t 11 & 2010 & 1 & 1 & 10 &  NA & -19 &  -7 & 1017 & NW & 31.30 & 0 & 0\\\\\n",
       "\t 12 & 2010 & 1 & 1 & 11 &  NA & -18 &  -5 & 1017 & NW & 34.43 & 0 & 0\\\\\n",
       "\t 13 & 2010 & 1 & 1 & 12 &  NA & -19 &  -5 & 1015 & NW & 37.56 & 0 & 0\\\\\n",
       "\t 14 & 2010 & 1 & 1 & 13 &  NA & -18 &  -3 & 1015 & NW & 40.69 & 0 & 0\\\\\n",
       "\t 15 & 2010 & 1 & 1 & 14 &  NA & -18 &  -2 & 1014 & NW & 43.82 & 0 & 0\\\\\n",
       "\t 16 & 2010 & 1 & 1 & 15 &  NA & -18 &  -1 & 1014 & cv &  0.89 & 0 & 0\\\\\n",
       "\t 17 & 2010 & 1 & 1 & 16 &  NA & -19 &  -2 & 1015 & NW &  1.79 & 0 & 0\\\\\n",
       "\t 18 & 2010 & 1 & 1 & 17 &  NA & -18 &  -3 & 1015 & NW &  2.68 & 0 & 0\\\\\n",
       "\t 19 & 2010 & 1 & 1 & 18 &  NA & -18 &  -5 & 1016 & NE &  1.79 & 0 & 0\\\\\n",
       "\t 20 & 2010 & 1 & 1 & 19 &  NA & -17 &  -4 & 1017 & NW &  1.79 & 0 & 0\\\\\n",
       "\t 21 & 2010 & 1 & 1 & 20 &  NA & -17 &  -5 & 1017 & cv &  0.89 & 0 & 0\\\\\n",
       "\t 22 & 2010 & 1 & 1 & 21 &  NA & -17 &  -5 & 1018 & NW &  1.79 & 0 & 0\\\\\n",
       "\t 23 & 2010 & 1 & 1 & 22 &  NA & -17 &  -5 & 1018 & NW &  2.68 & 0 & 0\\\\\n",
       "\t 24 & 2010 & 1 & 1 & 23 &  NA & -17 &  -5 & 1020 & cv &  0.89 & 0 & 0\\\\\n",
       "\t 25 & 2010 & 1 & 2 &  0 & 129 & -16 &  -4 & 1020 & SE &  1.79 & 0 & 0\\\\\n",
       "\t 26 & 2010 & 1 & 2 &  1 & 148 & -15 &  -4 & 1020 & SE &  2.68 & 0 & 0\\\\\n",
       "\t 27 & 2010 & 1 & 2 &  2 & 159 & -11 &  -5 & 1021 & SE &  3.57 & 0 & 0\\\\\n",
       "\t 28 & 2010 & 1 & 2 &  3 & 181 &  -7 &  -5 & 1022 & SE &  5.36 & 1 & 0\\\\\n",
       "\t 29 & 2010 & 1 & 2 &  4 & 138 &  -7 &  -5 & 1022 & SE &  6.25 & 2 & 0\\\\\n",
       "\t 30 & 2010 & 1 & 2 &  5 & 109 &  -7 &  -6 & 1022 & SE &  7.14 & 3 & 0\\\\\n",
       "\t ⋮ & ⋮ & ⋮ & ⋮ & ⋮ & ⋮ & ⋮ & ⋮ & ⋮ & ⋮ & ⋮ & ⋮ & ⋮\\\\\n",
       "\t 8731 & 2010 & 12 & 30 & 18 & 17 & -23 &  -6 & 1026 & NW & 302.65 & 0 & 0\\\\\n",
       "\t 8732 & 2010 & 12 & 30 & 19 & 19 & -24 &  -7 & 1026 & NW & 315.61 & 0 & 0\\\\\n",
       "\t 8733 & 2010 & 12 & 30 & 20 & 23 & -24 &  -8 & 1027 & NW & 326.79 & 0 & 0\\\\\n",
       "\t 8734 & 2010 & 12 & 30 & 21 & 21 & -24 &  -8 & 1027 & NW & 337.97 & 0 & 0\\\\\n",
       "\t 8735 & 2010 & 12 & 30 & 22 & 16 & -23 &  -8 & 1028 & NW & 345.12 & 0 & 0\\\\\n",
       "\t 8736 & 2010 & 12 & 30 & 23 & 20 & -23 &  -9 & 1028 & NW & 354.06 & 0 & 0\\\\\n",
       "\t 8737 & 2010 & 12 & 31 &  0 & 20 & -24 &  -9 & 1028 & NW & 359.87 & 0 & 0\\\\\n",
       "\t 8738 & 2010 & 12 & 31 &  1 & 21 & -23 &  -9 & 1028 & NW & 367.92 & 0 & 0\\\\\n",
       "\t 8739 & 2010 & 12 & 31 &  2 & 20 & -23 &  -9 & 1029 & NW & 376.86 & 0 & 0\\\\\n",
       "\t 8740 & 2010 & 12 & 31 &  3 & 16 & -24 &  -9 & 1028 & NW & 384.91 & 0 & 0\\\\\n",
       "\t 8741 & 2010 & 12 & 31 &  4 & 16 & -24 & -10 & 1029 & NW & 392.96 & 0 & 0\\\\\n",
       "\t 8742 & 2010 & 12 & 31 &  5 & 13 & -23 & -10 & 1029 & NW & 400.11 & 0 & 0\\\\\n",
       "\t 8743 & 2010 & 12 & 31 &  6 & 14 & -24 & -10 & 1029 & NW & 409.05 & 0 & 0\\\\\n",
       "\t 8744 & 2010 & 12 & 31 &  7 & 16 & -23 & -10 & 1029 & NW & 416.20 & 0 & 0\\\\\n",
       "\t 8745 & 2010 & 12 & 31 &  8 & 18 & -23 &  -9 & 1029 & NW & 424.25 & 0 & 0\\\\\n",
       "\t 8746 & 2010 & 12 & 31 &  9 & 15 & -23 &  -8 & 1030 & NW & 434.08 & 0 & 0\\\\\n",
       "\t 8747 & 2010 & 12 & 31 & 10 & 19 & -23 &  -7 & 1030 & NW & 447.04 & 0 & 0\\\\\n",
       "\t 8748 & 2010 & 12 & 31 & 11 & 14 & -22 &  -6 & 1029 & NW & 458.22 & 0 & 0\\\\\n",
       "\t 8749 & 2010 & 12 & 31 & 12 & 18 & -22 &  -4 & 1029 & NW & 468.05 & 0 & 0\\\\\n",
       "\t 8750 & 2010 & 12 & 31 & 13 & 21 & -21 &  -4 & 1028 & NW & 479.23 & 0 & 0\\\\\n",
       "\t 8751 & 2010 & 12 & 31 & 14 & 21 & -21 &  -3 & 1028 & NW & 489.06 & 0 & 0\\\\\n",
       "\t 8752 & 2010 & 12 & 31 & 15 & 19 & -20 &  -3 & 1028 & NW & 498.89 & 0 & 0\\\\\n",
       "\t 8753 & 2010 & 12 & 31 & 16 & 18 & -20 &  -4 & 1029 & NW & 508.72 & 0 & 0\\\\\n",
       "\t 8754 & 2010 & 12 & 31 & 17 & 20 & -20 &  -4 & 1029 & NW & 518.55 & 0 & 0\\\\\n",
       "\t 8755 & 2010 & 12 & 31 & 18 & 28 & -20 &  -5 & 1030 & NW & 526.60 & 0 & 0\\\\\n",
       "\t 8756 & 2010 & 12 & 31 & 19 & 27 & -20 &  -5 & 1030 & NW & 534.65 & 0 & 0\\\\\n",
       "\t 8757 & 2010 & 12 & 31 & 20 & 17 & -20 &  -6 & 1031 & NW & 543.59 & 0 & 0\\\\\n",
       "\t 8758 & 2010 & 12 & 31 & 21 & 19 & -21 &  -6 & 1031 & NW & 552.53 & 0 & 0\\\\\n",
       "\t 8759 & 2010 & 12 & 31 & 22 & 16 & -21 &  -7 & 1032 & NW & 559.68 & 0 & 0\\\\\n",
       "\t 8760 & 2010 & 12 & 31 & 23 & 22 & -21 &  -7 & 1033 & NW & 565.49 & 0 & 0\\\\\n",
       "\\end{tabular}\n"
      ],
      "text/markdown": [
       "\n",
       "A spec_tbl_df: 8760 × 13\n",
       "\n",
       "| No &lt;dbl&gt; | year &lt;dbl&gt; | month &lt;dbl&gt; | day &lt;dbl&gt; | hour &lt;dbl&gt; | pm2.5 &lt;dbl&gt; | DEWP &lt;dbl&gt; | TEMP &lt;dbl&gt; | PRES &lt;dbl&gt; | cbwd &lt;chr&gt; | Iws &lt;dbl&gt; | Is &lt;dbl&gt; | Ir &lt;dbl&gt; |\n",
       "|---|---|---|---|---|---|---|---|---|---|---|---|---|\n",
       "|  1 | 2010 | 1 | 1 |  0 |  NA | -21 | -11 | 1021 | NW |  1.79 | 0 | 0 |\n",
       "|  2 | 2010 | 1 | 1 |  1 |  NA | -21 | -12 | 1020 | NW |  4.92 | 0 | 0 |\n",
       "|  3 | 2010 | 1 | 1 |  2 |  NA | -21 | -11 | 1019 | NW |  6.71 | 0 | 0 |\n",
       "|  4 | 2010 | 1 | 1 |  3 |  NA | -21 | -14 | 1019 | NW |  9.84 | 0 | 0 |\n",
       "|  5 | 2010 | 1 | 1 |  4 |  NA | -20 | -12 | 1018 | NW | 12.97 | 0 | 0 |\n",
       "|  6 | 2010 | 1 | 1 |  5 |  NA | -19 | -10 | 1017 | NW | 16.10 | 0 | 0 |\n",
       "|  7 | 2010 | 1 | 1 |  6 |  NA | -19 |  -9 | 1017 | NW | 19.23 | 0 | 0 |\n",
       "|  8 | 2010 | 1 | 1 |  7 |  NA | -19 |  -9 | 1017 | NW | 21.02 | 0 | 0 |\n",
       "|  9 | 2010 | 1 | 1 |  8 |  NA | -19 |  -9 | 1017 | NW | 24.15 | 0 | 0 |\n",
       "| 10 | 2010 | 1 | 1 |  9 |  NA | -20 |  -8 | 1017 | NW | 27.28 | 0 | 0 |\n",
       "| 11 | 2010 | 1 | 1 | 10 |  NA | -19 |  -7 | 1017 | NW | 31.30 | 0 | 0 |\n",
       "| 12 | 2010 | 1 | 1 | 11 |  NA | -18 |  -5 | 1017 | NW | 34.43 | 0 | 0 |\n",
       "| 13 | 2010 | 1 | 1 | 12 |  NA | -19 |  -5 | 1015 | NW | 37.56 | 0 | 0 |\n",
       "| 14 | 2010 | 1 | 1 | 13 |  NA | -18 |  -3 | 1015 | NW | 40.69 | 0 | 0 |\n",
       "| 15 | 2010 | 1 | 1 | 14 |  NA | -18 |  -2 | 1014 | NW | 43.82 | 0 | 0 |\n",
       "| 16 | 2010 | 1 | 1 | 15 |  NA | -18 |  -1 | 1014 | cv |  0.89 | 0 | 0 |\n",
       "| 17 | 2010 | 1 | 1 | 16 |  NA | -19 |  -2 | 1015 | NW |  1.79 | 0 | 0 |\n",
       "| 18 | 2010 | 1 | 1 | 17 |  NA | -18 |  -3 | 1015 | NW |  2.68 | 0 | 0 |\n",
       "| 19 | 2010 | 1 | 1 | 18 |  NA | -18 |  -5 | 1016 | NE |  1.79 | 0 | 0 |\n",
       "| 20 | 2010 | 1 | 1 | 19 |  NA | -17 |  -4 | 1017 | NW |  1.79 | 0 | 0 |\n",
       "| 21 | 2010 | 1 | 1 | 20 |  NA | -17 |  -5 | 1017 | cv |  0.89 | 0 | 0 |\n",
       "| 22 | 2010 | 1 | 1 | 21 |  NA | -17 |  -5 | 1018 | NW |  1.79 | 0 | 0 |\n",
       "| 23 | 2010 | 1 | 1 | 22 |  NA | -17 |  -5 | 1018 | NW |  2.68 | 0 | 0 |\n",
       "| 24 | 2010 | 1 | 1 | 23 |  NA | -17 |  -5 | 1020 | cv |  0.89 | 0 | 0 |\n",
       "| 25 | 2010 | 1 | 2 |  0 | 129 | -16 |  -4 | 1020 | SE |  1.79 | 0 | 0 |\n",
       "| 26 | 2010 | 1 | 2 |  1 | 148 | -15 |  -4 | 1020 | SE |  2.68 | 0 | 0 |\n",
       "| 27 | 2010 | 1 | 2 |  2 | 159 | -11 |  -5 | 1021 | SE |  3.57 | 0 | 0 |\n",
       "| 28 | 2010 | 1 | 2 |  3 | 181 |  -7 |  -5 | 1022 | SE |  5.36 | 1 | 0 |\n",
       "| 29 | 2010 | 1 | 2 |  4 | 138 |  -7 |  -5 | 1022 | SE |  6.25 | 2 | 0 |\n",
       "| 30 | 2010 | 1 | 2 |  5 | 109 |  -7 |  -6 | 1022 | SE |  7.14 | 3 | 0 |\n",
       "| ⋮ | ⋮ | ⋮ | ⋮ | ⋮ | ⋮ | ⋮ | ⋮ | ⋮ | ⋮ | ⋮ | ⋮ | ⋮ |\n",
       "| 8731 | 2010 | 12 | 30 | 18 | 17 | -23 |  -6 | 1026 | NW | 302.65 | 0 | 0 |\n",
       "| 8732 | 2010 | 12 | 30 | 19 | 19 | -24 |  -7 | 1026 | NW | 315.61 | 0 | 0 |\n",
       "| 8733 | 2010 | 12 | 30 | 20 | 23 | -24 |  -8 | 1027 | NW | 326.79 | 0 | 0 |\n",
       "| 8734 | 2010 | 12 | 30 | 21 | 21 | -24 |  -8 | 1027 | NW | 337.97 | 0 | 0 |\n",
       "| 8735 | 2010 | 12 | 30 | 22 | 16 | -23 |  -8 | 1028 | NW | 345.12 | 0 | 0 |\n",
       "| 8736 | 2010 | 12 | 30 | 23 | 20 | -23 |  -9 | 1028 | NW | 354.06 | 0 | 0 |\n",
       "| 8737 | 2010 | 12 | 31 |  0 | 20 | -24 |  -9 | 1028 | NW | 359.87 | 0 | 0 |\n",
       "| 8738 | 2010 | 12 | 31 |  1 | 21 | -23 |  -9 | 1028 | NW | 367.92 | 0 | 0 |\n",
       "| 8739 | 2010 | 12 | 31 |  2 | 20 | -23 |  -9 | 1029 | NW | 376.86 | 0 | 0 |\n",
       "| 8740 | 2010 | 12 | 31 |  3 | 16 | -24 |  -9 | 1028 | NW | 384.91 | 0 | 0 |\n",
       "| 8741 | 2010 | 12 | 31 |  4 | 16 | -24 | -10 | 1029 | NW | 392.96 | 0 | 0 |\n",
       "| 8742 | 2010 | 12 | 31 |  5 | 13 | -23 | -10 | 1029 | NW | 400.11 | 0 | 0 |\n",
       "| 8743 | 2010 | 12 | 31 |  6 | 14 | -24 | -10 | 1029 | NW | 409.05 | 0 | 0 |\n",
       "| 8744 | 2010 | 12 | 31 |  7 | 16 | -23 | -10 | 1029 | NW | 416.20 | 0 | 0 |\n",
       "| 8745 | 2010 | 12 | 31 |  8 | 18 | -23 |  -9 | 1029 | NW | 424.25 | 0 | 0 |\n",
       "| 8746 | 2010 | 12 | 31 |  9 | 15 | -23 |  -8 | 1030 | NW | 434.08 | 0 | 0 |\n",
       "| 8747 | 2010 | 12 | 31 | 10 | 19 | -23 |  -7 | 1030 | NW | 447.04 | 0 | 0 |\n",
       "| 8748 | 2010 | 12 | 31 | 11 | 14 | -22 |  -6 | 1029 | NW | 458.22 | 0 | 0 |\n",
       "| 8749 | 2010 | 12 | 31 | 12 | 18 | -22 |  -4 | 1029 | NW | 468.05 | 0 | 0 |\n",
       "| 8750 | 2010 | 12 | 31 | 13 | 21 | -21 |  -4 | 1028 | NW | 479.23 | 0 | 0 |\n",
       "| 8751 | 2010 | 12 | 31 | 14 | 21 | -21 |  -3 | 1028 | NW | 489.06 | 0 | 0 |\n",
       "| 8752 | 2010 | 12 | 31 | 15 | 19 | -20 |  -3 | 1028 | NW | 498.89 | 0 | 0 |\n",
       "| 8753 | 2010 | 12 | 31 | 16 | 18 | -20 |  -4 | 1029 | NW | 508.72 | 0 | 0 |\n",
       "| 8754 | 2010 | 12 | 31 | 17 | 20 | -20 |  -4 | 1029 | NW | 518.55 | 0 | 0 |\n",
       "| 8755 | 2010 | 12 | 31 | 18 | 28 | -20 |  -5 | 1030 | NW | 526.60 | 0 | 0 |\n",
       "| 8756 | 2010 | 12 | 31 | 19 | 27 | -20 |  -5 | 1030 | NW | 534.65 | 0 | 0 |\n",
       "| 8757 | 2010 | 12 | 31 | 20 | 17 | -20 |  -6 | 1031 | NW | 543.59 | 0 | 0 |\n",
       "| 8758 | 2010 | 12 | 31 | 21 | 19 | -21 |  -6 | 1031 | NW | 552.53 | 0 | 0 |\n",
       "| 8759 | 2010 | 12 | 31 | 22 | 16 | -21 |  -7 | 1032 | NW | 559.68 | 0 | 0 |\n",
       "| 8760 | 2010 | 12 | 31 | 23 | 22 | -21 |  -7 | 1033 | NW | 565.49 | 0 | 0 |\n",
       "\n"
      ],
      "text/plain": [
       "     No   year month day hour pm2.5 DEWP TEMP PRES cbwd Iws    Is Ir\n",
       "1     1   2010 1     1    0    NA   -21  -11  1021 NW    1.79  0  0 \n",
       "2     2   2010 1     1    1    NA   -21  -12  1020 NW    4.92  0  0 \n",
       "3     3   2010 1     1    2    NA   -21  -11  1019 NW    6.71  0  0 \n",
       "4     4   2010 1     1    3    NA   -21  -14  1019 NW    9.84  0  0 \n",
       "5     5   2010 1     1    4    NA   -20  -12  1018 NW   12.97  0  0 \n",
       "6     6   2010 1     1    5    NA   -19  -10  1017 NW   16.10  0  0 \n",
       "7     7   2010 1     1    6    NA   -19   -9  1017 NW   19.23  0  0 \n",
       "8     8   2010 1     1    7    NA   -19   -9  1017 NW   21.02  0  0 \n",
       "9     9   2010 1     1    8    NA   -19   -9  1017 NW   24.15  0  0 \n",
       "10   10   2010 1     1    9    NA   -20   -8  1017 NW   27.28  0  0 \n",
       "11   11   2010 1     1   10    NA   -19   -7  1017 NW   31.30  0  0 \n",
       "12   12   2010 1     1   11    NA   -18   -5  1017 NW   34.43  0  0 \n",
       "13   13   2010 1     1   12    NA   -19   -5  1015 NW   37.56  0  0 \n",
       "14   14   2010 1     1   13    NA   -18   -3  1015 NW   40.69  0  0 \n",
       "15   15   2010 1     1   14    NA   -18   -2  1014 NW   43.82  0  0 \n",
       "16   16   2010 1     1   15    NA   -18   -1  1014 cv    0.89  0  0 \n",
       "17   17   2010 1     1   16    NA   -19   -2  1015 NW    1.79  0  0 \n",
       "18   18   2010 1     1   17    NA   -18   -3  1015 NW    2.68  0  0 \n",
       "19   19   2010 1     1   18    NA   -18   -5  1016 NE    1.79  0  0 \n",
       "20   20   2010 1     1   19    NA   -17   -4  1017 NW    1.79  0  0 \n",
       "21   21   2010 1     1   20    NA   -17   -5  1017 cv    0.89  0  0 \n",
       "22   22   2010 1     1   21    NA   -17   -5  1018 NW    1.79  0  0 \n",
       "23   23   2010 1     1   22    NA   -17   -5  1018 NW    2.68  0  0 \n",
       "24   24   2010 1     1   23    NA   -17   -5  1020 cv    0.89  0  0 \n",
       "25   25   2010 1     2    0   129   -16   -4  1020 SE    1.79  0  0 \n",
       "26   26   2010 1     2    1   148   -15   -4  1020 SE    2.68  0  0 \n",
       "27   27   2010 1     2    2   159   -11   -5  1021 SE    3.57  0  0 \n",
       "28   28   2010 1     2    3   181    -7   -5  1022 SE    5.36  1  0 \n",
       "29   29   2010 1     2    4   138    -7   -5  1022 SE    6.25  2  0 \n",
       "30   30   2010 1     2    5   109    -7   -6  1022 SE    7.14  3  0 \n",
       "⋮    ⋮    ⋮    ⋮     ⋮   ⋮    ⋮     ⋮    ⋮    ⋮    ⋮    ⋮      ⋮  ⋮ \n",
       "8731 8731 2010 12    30  18   17    -23   -6  1026 NW   302.65 0  0 \n",
       "8732 8732 2010 12    30  19   19    -24   -7  1026 NW   315.61 0  0 \n",
       "8733 8733 2010 12    30  20   23    -24   -8  1027 NW   326.79 0  0 \n",
       "8734 8734 2010 12    30  21   21    -24   -8  1027 NW   337.97 0  0 \n",
       "8735 8735 2010 12    30  22   16    -23   -8  1028 NW   345.12 0  0 \n",
       "8736 8736 2010 12    30  23   20    -23   -9  1028 NW   354.06 0  0 \n",
       "8737 8737 2010 12    31   0   20    -24   -9  1028 NW   359.87 0  0 \n",
       "8738 8738 2010 12    31   1   21    -23   -9  1028 NW   367.92 0  0 \n",
       "8739 8739 2010 12    31   2   20    -23   -9  1029 NW   376.86 0  0 \n",
       "8740 8740 2010 12    31   3   16    -24   -9  1028 NW   384.91 0  0 \n",
       "8741 8741 2010 12    31   4   16    -24  -10  1029 NW   392.96 0  0 \n",
       "8742 8742 2010 12    31   5   13    -23  -10  1029 NW   400.11 0  0 \n",
       "8743 8743 2010 12    31   6   14    -24  -10  1029 NW   409.05 0  0 \n",
       "8744 8744 2010 12    31   7   16    -23  -10  1029 NW   416.20 0  0 \n",
       "8745 8745 2010 12    31   8   18    -23   -9  1029 NW   424.25 0  0 \n",
       "8746 8746 2010 12    31   9   15    -23   -8  1030 NW   434.08 0  0 \n",
       "8747 8747 2010 12    31  10   19    -23   -7  1030 NW   447.04 0  0 \n",
       "8748 8748 2010 12    31  11   14    -22   -6  1029 NW   458.22 0  0 \n",
       "8749 8749 2010 12    31  12   18    -22   -4  1029 NW   468.05 0  0 \n",
       "8750 8750 2010 12    31  13   21    -21   -4  1028 NW   479.23 0  0 \n",
       "8751 8751 2010 12    31  14   21    -21   -3  1028 NW   489.06 0  0 \n",
       "8752 8752 2010 12    31  15   19    -20   -3  1028 NW   498.89 0  0 \n",
       "8753 8753 2010 12    31  16   18    -20   -4  1029 NW   508.72 0  0 \n",
       "8754 8754 2010 12    31  17   20    -20   -4  1029 NW   518.55 0  0 \n",
       "8755 8755 2010 12    31  18   28    -20   -5  1030 NW   526.60 0  0 \n",
       "8756 8756 2010 12    31  19   27    -20   -5  1030 NW   534.65 0  0 \n",
       "8757 8757 2010 12    31  20   17    -20   -6  1031 NW   543.59 0  0 \n",
       "8758 8758 2010 12    31  21   19    -21   -6  1031 NW   552.53 0  0 \n",
       "8759 8759 2010 12    31  22   16    -21   -7  1032 NW   559.68 0  0 \n",
       "8760 8760 2010 12    31  23   22    -21   -7  1033 NW   565.49 0  0 "
      ]
     },
     "metadata": {},
     "output_type": "display_data"
    }
   ],
   "source": [
    "pm2.5_data <- read_csv(\"https://raw.githubusercontent.com/gbrwg/DSCI100-Group-Project/main/data/beijing_pm2.5_data.csv\") %>%\n",
    "            filter(year == \"2010\")\n",
    "pm2.5_data\n"
   ]
  },
  {
   "cell_type": "code",
   "execution_count": 5,
   "metadata": {},
   "outputs": [
    {
     "data": {
      "text/plain": [
       "         colName1 colName2 colName3\n",
       "rowName1        7        5       14\n",
       "rowName2       19        3        2\n",
       "rowName3       17        6       12"
      ]
     },
     "metadata": {},
     "output_type": "display_data"
    }
   ],
   "source": [
    "## template for creating a table\n",
    "tab <- matrix(c(7, 5, 14, 19, 3, 2, 17, 6, 12), ncol=3, byrow=TRUE)\n",
    "colnames(tab) <- c('colName1','colName2','colName3')\n",
    "rownames(tab) <- c('rowName1','rowName2','rowName3')\n",
    "tab <- as.table(tab)\n",
    "tab"
   ]
  },
  {
   "cell_type": "code",
   "execution_count": 15,
   "metadata": {},
   "outputs": [],
   "source": [
    "## Omitting NA, set the seed, and spilting the data\n",
    "pm2.5_data_withoutna <- na.omit(pm2.5_data)\n",
    "set.seed(1)\n",
    "pm2.5_split <- initial_split(pm2.5_data_withoutna, prop = 0.75, strata = pm2.5)\n",
    "pm2.5_train <- training(pm2.5_split)\n",
    "pm2.5_test <- testing(pm2.5_split)"
   ]
  },
  {
   "cell_type": "code",
   "execution_count": 36,
   "metadata": {},
   "outputs": [
    {
     "data": {
      "text/html": [
       "669"
      ],
      "text/latex": [
       "669"
      ],
      "text/markdown": [
       "669"
      ],
      "text/plain": [
       "[1] 669"
      ]
     },
     "metadata": {},
     "output_type": "display_data"
    }
   ],
   "source": [
    "## Find the number of rows that contain missing data.\n",
    "missing_data <- nrow(pm2.5_data) - nrow(pm2.5_data_withoutna)\n",
    "missing_data"
   ]
  },
  {
   "cell_type": "markdown",
   "metadata": {},
   "source": [
    "There are 669 rows with missing data."
   ]
  },
  {
   "cell_type": "code",
   "execution_count": 44,
   "metadata": {},
   "outputs": [],
   "source": [
    "## Find the mean for each predictor\n",
    "Pm_2.5_selected <- select(pm2.5_train,DEWP,TEMP,PRES,Iws,Is,Ir)\n",
    "\n",
    "mean_dewp <- Pm_2.5_selected%>%\n",
    "summarize(mean= mean(DEWP))%>%\n",
    "pull()\n",
    "\n",
    "mean_temp <- Pm_2.5_selected%>%\n",
    "summarize(mean= mean(TEMP))%>%\n",
    "pull()\n",
    "\n",
    "mean_pres <- Pm_2.5_selected%>%\n",
    "summarize(mean= mean(PRES))%>%\n",
    "pull()\n",
    "\n",
    "mean_iws <- Pm_2.5_selected%>%\n",
    "summarize(mean= mean(Iws))%>%\n",
    "pull()\n",
    "\n",
    "mean_is <- Pm_2.5_selected%>%\n",
    "summarize(mean= mean(Is))%>%\n",
    "pull()\n",
    "\n",
    "mean_ir <- Pm_2.5_selected%>%\n",
    "summarize(mean= mean(Ir))%>%\n",
    "pull()"
   ]
  },
  {
   "cell_type": "code",
   "execution_count": 46,
   "metadata": {},
   "outputs": [
    {
     "data": {
      "text/plain": [
       "             DEWP         TEMP         PRES          Iws           Is\n",
       "mean 1.567216e+00 1.152867e+01 1.016168e+03 2.950518e+01 7.611203e-02\n",
       "               Ir\n",
       "mean 2.886326e-01"
      ]
     },
     "metadata": {},
     "output_type": "display_data"
    }
   ],
   "source": [
    "## Creating the table displaying the mean of each predictor\n",
    "tab_pm2.5 <- matrix(c(mean_dewp, mean_temp, mean_pres, mean_iws, mean_is, mean_ir), ncol=6, byrow=TRUE)\n",
    "colnames(tab_pm2.5) <- c(\"DEWP\", \"TEMP\", \"PRES\", \"Iws\", \"Is\", \"Ir\")\n",
    "rownames(tab_pm2.5) <- c(\"mean\")\n",
    "tab_pm2.5 <- as.table(tab_pm2.5)\n",
    "tab_pm2.5"
   ]
  },
  {
   "cell_type": "markdown",
   "metadata": {},
   "source": [
    "### Methods\n"
   ]
  },
  {
   "cell_type": "markdown",
   "metadata": {},
   "source": [
    "We will be filtering data from 2010 since the concentration of PM2.5 increases yearly. "
   ]
  },
  {
   "cell_type": "markdown",
   "metadata": {},
   "source": [
    "### Expected Outcomes and Significance\n",
    "Air pollution is an increasingly important problem. To overcome it, we must study the patterns and correlations. We hope to find a seasonal pattern in PM2.5 concentration, then we can think of methods to reduce the concentration during peak seasons. From gathering seasonal patterns in PM2.5 concentration, we hope that this can help governments in implementing policies in reducing PM2.5 concentration during peak seasons. Further research could be done by finding the causes of the rise in concentration in PM2.5 and ways to mitigate such effects. "
   ]
  },
  {
   "cell_type": "markdown",
   "metadata": {},
   "source": [
    "### References\n",
    "Zhao, Hui, et al. “Spatiotemporal Distribution of PM2.5 and O3 and Their Interaction during the Summer and Winter Seasons in Beijing, China.” *MDPI*, Multidisciplinary Digital Publishing Institute, 30 Nov. 2018, https://www.mdpi.com/2071-1050/10/12/4519/htm. "
   ]
  }
 ],
 "metadata": {
  "kernelspec": {
   "display_name": "R",
   "language": "R",
   "name": "ir"
  },
  "language_info": {
   "codemirror_mode": "r",
   "file_extension": ".r",
   "mimetype": "text/x-r-source",
   "name": "R",
   "pygments_lexer": "r",
   "version": "4.0.0"
  }
 },
 "nbformat": 4,
 "nbformat_minor": 4
}
